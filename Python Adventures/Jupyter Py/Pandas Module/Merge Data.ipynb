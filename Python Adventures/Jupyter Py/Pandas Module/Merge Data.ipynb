{
 "cells": [
  {
   "cell_type": "code",
   "execution_count": 12,
   "id": "4351e887-bf4b-4624-9a6f-deb8a758df42",
   "metadata": {},
   "outputs": [
    {
     "name": "stdout",
     "output_type": "stream",
     "text": [
      "     Id Name  Age\n",
      "0   E01    A    1\n",
      "1   E02    b    2\n",
      "2   E03    c    3\n",
      "3   E04    d    4\n",
      "4   E05    e    5\n",
      "5   E06    f    6\n",
      "6   E07    g    7\n",
      "7   E08    h    8\n",
      "8   E09    i    9\n",
      "9  E010    j   10\n",
      "     Id  Salary\n",
      "0   E01   10000\n",
      "1   E02    2000\n",
      "2   E03    3000\n",
      "3   E04    4000\n",
      "4   E05    5000\n",
      "5   E06    6000\n",
      "6   E07    7000\n",
      "7   E08    8000\n",
      "8   E09    9000\n",
      "9  E010  100000\n"
     ]
    }
   ],
   "source": [
    "import pandas as pd\n",
    "data1 = {\n",
    "    \"Id\" : [\"E01\",\"E02\",\"E03\",\"E04\",\"E05\",\"E06\",\"E07\",\"E08\",\"E09\",\"E010\"],\n",
    "    \"Name\" :  [\"A\",\"b\",\"c\",\"d\",\"e\",\"f\",\"g\",\"h\",\"i\",\"j\"],\n",
    "    \"Age\" : [1,2,3,4,5,6,7,8,9,10]\n",
    "}\n",
    "data2 = {\n",
    "    \"Id\" : [\"E01\",\"E02\",\"E03\",\"E04\",\"E05\",\"E06\",\"E07\",\"E08\",\"E09\",\"E010\"],\n",
    "    \"Salary\" : [10000,2000,3000,4000,5000,6000,7000,8000,9000,100000]\n",
    "}\n",
    "df1 = pd.DataFrame(data1)\n",
    "df2 = pd.DataFrame(data2)\n",
    "print(df1)\n",
    "print(df2)"
   ]
  },
  {
   "cell_type": "code",
   "execution_count": 18,
   "id": "b1a3f8f1-4193-468e-ad2a-35b402988f16",
   "metadata": {},
   "outputs": [
    {
     "name": "stdout",
     "output_type": "stream",
     "text": [
      "     Id Name  Age  Salary\n",
      "0   E01    A    1   10000\n",
      "1   E02    b    2    2000\n",
      "2   E03    c    3    3000\n",
      "3   E04    d    4    4000\n",
      "4   E05    e    5    5000\n",
      "5   E06    f    6    6000\n",
      "6   E07    g    7    7000\n",
      "7   E08    h    8    8000\n",
      "8   E09    i    9    9000\n",
      "9  E010    j   10  100000\n"
     ]
    }
   ],
   "source": [
    "print(pd.merge(df1, df2, on = \"Id\"))"
   ]
  },
  {
   "cell_type": "code",
   "execution_count": 20,
   "id": "cae632d6-e3e7-4d3c-989c-0096b4039f51",
   "metadata": {},
   "outputs": [
    {
     "name": "stdout",
     "output_type": "stream",
     "text": [
      "     Id Name  Age  Salary\n",
      "0   E01    A    1   10000\n",
      "1   E02    b    2    2000\n",
      "2   E03    c    3    3000\n",
      "3   E04    d    4    4000\n",
      "4   E05    e    5    5000\n",
      "5   E06    f    6    6000\n",
      "6   E07    g    7    7000\n",
      "7   E08    h    8    8000\n",
      "8   E09    i    9    9000\n",
      "9  E010    j   10  100000\n",
      "     Id Name  Age  Salary\n",
      "0   E01    A    1   10000\n",
      "1   E02    b    2    2000\n",
      "2   E03    c    3    3000\n",
      "3   E04    d    4    4000\n",
      "4   E05    e    5    5000\n",
      "5   E06    f    6    6000\n",
      "6   E07    g    7    7000\n",
      "7   E08    h    8    8000\n",
      "8   E09    i    9    9000\n",
      "9  E010    j   10  100000\n"
     ]
    }
   ],
   "source": [
    "print(pd.merge(df1, df2, on = \"Id\", how = \"left\")) # left = df1\n",
    "print(pd.merge(df1, df2, on = \"Id\", how = \"right\"))"
   ]
  }
 ],
 "metadata": {
  "kernelspec": {
   "display_name": "Python 3 (ipykernel)",
   "language": "python",
   "name": "python3"
  },
  "language_info": {
   "codemirror_mode": {
    "name": "ipython",
    "version": 3
   },
   "file_extension": ".py",
   "mimetype": "text/x-python",
   "name": "python",
   "nbconvert_exporter": "python",
   "pygments_lexer": "ipython3",
   "version": "3.12.4"
  }
 },
 "nbformat": 4,
 "nbformat_minor": 5
}
