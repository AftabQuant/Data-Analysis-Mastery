{
 "cells": [
  {
   "cell_type": "code",
   "execution_count": 7,
   "id": "1810f090-c773-4da4-8f2f-f7326dffc4b2",
   "metadata": {},
   "outputs": [
    {
     "name": "stdout",
     "output_type": "stream",
     "text": [
      "[1 2 3]\n"
     ]
    }
   ],
   "source": [
    "import numpy as np\n",
    "ar = np.array([1,2,3])\n",
    "print(ar)"
   ]
  },
  {
   "cell_type": "code",
   "execution_count": 6,
   "id": "0dc5e18b-f1d2-445f-9128-acb6f6bee2af",
   "metadata": {},
   "outputs": [
    {
     "name": "stdout",
     "output_type": "stream",
     "text": [
      "  Name  Age\n",
      "0    A   12\n",
      "1    B    3\n",
      "2    C    4\n"
     ]
    }
   ],
   "source": [
    "import pandas as pd \n",
    "data = {\n",
    "\"Name\" : [\"A\", \"B\", \"C\"],\n",
    "    \"Age\" : [12, 3,4]\n",
    "}\n",
    "d = pd.DataFrame(data)\n",
    "print(d)"
   ]
  },
  {
   "cell_type": "code",
   "execution_count": 34,
   "id": "601c43a0-d412-459f-8649-6009bda5aee7",
   "metadata": {},
   "outputs": [
    {
     "name": "stdout",
     "output_type": "stream",
     "text": [
      "   Unnamed: 0 Annual Returns on Investments in Unnamed: 2 Unnamed: 3\n",
      "0        Year                           Stocks    T.Bills    T.Bonds\n",
      "1        1928                           0.4381     0.0308     0.0084\n",
      "2        1929                           -0.083     0.0316      0.042\n",
      "3        1930                          -0.2512     0.0455     0.0454\n",
      "4        1931                          -0.4384     0.0231    -0.0256\n",
      "..        ...                              ...        ...        ...\n",
      "85        NaN                              NaN        NaN        NaN\n",
      "86        NaN                              NaN        NaN        NaN\n",
      "87        NaN                              NaN        NaN        NaN\n",
      "88        NaN                           stocks     tbills      bonds\n",
      "89   averages                              NaN        NaN        NaN\n",
      "\n",
      "[90 rows x 4 columns]\n"
     ]
    }
   ],
   "source": [
    "import pandas as pd\n",
    "data = pd.read_excel(\"Demo.xlsx\")\n",
    "print(data)"
   ]
  },
  {
   "cell_type": "code",
   "execution_count": 24,
   "id": "e94cea2a-1608-4f16-9149-d5b2480682e1",
   "metadata": {},
   "outputs": [
    {
     "name": "stdout",
     "output_type": "stream",
     "text": [
      "<class 'pandas.core.frame.DataFrame'>\n",
      "RangeIndex: 90 entries, 0 to 89\n",
      "Data columns (total 4 columns):\n",
      " #   Column                            Non-Null Count  Dtype \n",
      "---  ------                            --------------  ----- \n",
      " 0   Unnamed: 0                        84 non-null     object\n",
      " 1   Annual Returns on Investments in  84 non-null     object\n",
      " 2   Unnamed: 2                        84 non-null     object\n",
      " 3   Unnamed: 3                        84 non-null     object\n",
      "dtypes: object(4)\n",
      "memory usage: 2.9+ KB\n",
      "None\n"
     ]
    }
   ],
   "source": [
    "print(data.info()) # To Know The Data Type"
   ]
  },
  {
   "cell_type": "code",
   "execution_count": 28,
   "id": "be3b309b-7505-439e-8cbf-d19c897e1f65",
   "metadata": {},
   "outputs": [
    {
     "name": "stdout",
     "output_type": "stream",
     "text": [
      "       Unnamed: 0 Annual Returns on Investments in  Unnamed: 2  Unnamed: 3\n",
      "count          84                               84     84.0000     84.0000\n",
      "unique         84                               84     80.0000     83.0000\n",
      "top          Year                           Stocks      0.0038      0.0466\n",
      "freq            1                                1      5.0000      2.0000\n"
     ]
    }
   ],
   "source": [
    "print(data.describe())"
   ]
  },
  {
   "cell_type": "code",
   "execution_count": 30,
   "id": "f7336f5c-208e-42fa-a272-fbe0b68b3446",
   "metadata": {},
   "outputs": [
    {
     "name": "stdout",
     "output_type": "stream",
     "text": [
      "Unnamed: 0                          6\n",
      "Annual Returns on Investments in    6\n",
      "Unnamed: 2                          6\n",
      "Unnamed: 3                          6\n",
      "dtype: int64\n"
     ]
    }
   ],
   "source": [
    "# to show null values in the data\n",
    "print(data.isnull().sum())"
   ]
  },
  {
   "cell_type": "code",
   "execution_count": 40,
   "id": "fb3e7db5-7b40-422d-bd5e-a7add0ea1eb9",
   "metadata": {},
   "outputs": [
    {
     "name": "stdout",
     "output_type": "stream",
     "text": [
      "0     False\n",
      "1     False\n",
      "2     False\n",
      "3     False\n",
      "4     False\n",
      "      ...  \n",
      "85     True\n",
      "86     True\n",
      "87     True\n",
      "88    False\n",
      "89    False\n",
      "Length: 90, dtype: bool\n",
      "4\n"
     ]
    }
   ],
   "source": [
    "print(data.duplicated())\n",
    "print(data.duplicated().sum())"
   ]
  },
  {
   "cell_type": "code",
   "execution_count": 50,
   "id": "73f7205a-bf0f-4264-8a4b-f605c7705298",
   "metadata": {},
   "outputs": [
    {
     "name": "stdout",
     "output_type": "stream",
     "text": [
      "   Unnamed: 0 Annual Returns on Investments in Unnamed: 2 Unnamed: 3\n",
      "0        Year                           Stocks    T.Bills    T.Bonds\n",
      "1        1928                           0.4381     0.0308     0.0084\n",
      "2        1929                           -0.083     0.0316      0.042\n",
      "3        1930                          -0.2512     0.0455     0.0454\n",
      "4        1931                          -0.4384     0.0231    -0.0256\n",
      "..        ...                              ...        ...        ...\n",
      "81       2008                            -0.37     0.2587      0.016\n",
      "82       2009                           0.2646     -0.149      0.001\n",
      "83        NaN                              NaN        NaN        NaN\n",
      "88        NaN                           stocks     tbills      bonds\n",
      "89   averages                              NaN        NaN        NaN\n",
      "\n",
      "[86 rows x 4 columns]\n"
     ]
    }
   ],
   "source": [
    "print(data.drop_duplicates()) # to delete column "
   ]
  },
  {
   "cell_type": "code",
   "execution_count": 54,
   "id": "ca4d0520-8130-4712-bdc3-f1d92855eb4c",
   "metadata": {},
   "outputs": [
    {
     "name": "stdout",
     "output_type": "stream",
     "text": [
      "Unnamed: 0                          6\n",
      "Annual Returns on Investments in    6\n",
      "Unnamed: 2                          6\n",
      "Unnamed: 3                          6\n",
      "dtype: int64\n"
     ]
    }
   ],
   "source": [
    "print(data.isnull().sum())"
   ]
  },
  {
   "cell_type": "code",
   "execution_count": 56,
   "id": "742a6f3a-435e-4b40-b3a4-058e2d599fcf",
   "metadata": {},
   "outputs": [
    {
     "name": "stdout",
     "output_type": "stream",
     "text": [
      "   Unnamed: 0 Annual Returns on Investments in Unnamed: 2 Unnamed: 3\n",
      "0        Year                           Stocks    T.Bills    T.Bonds\n",
      "1        1928                           0.4381     0.0308     0.0084\n",
      "2        1929                           -0.083     0.0316      0.042\n",
      "3        1930                          -0.2512     0.0455     0.0454\n",
      "4        1931                          -0.4384     0.0231    -0.0256\n",
      "..        ...                              ...        ...        ...\n",
      "78       2005                           0.0491     0.0781      0.012\n",
      "79       2006                           0.1579     0.0119     0.0298\n",
      "80       2007                           0.0549     0.0988     0.0466\n",
      "81       2008                            -0.37     0.2587      0.016\n",
      "82       2009                           0.2646     -0.149      0.001\n",
      "\n",
      "[83 rows x 4 columns]\n"
     ]
    }
   ],
   "source": [
    "print(data.dropna())"
   ]
  },
  {
   "cell_type": "code",
   "execution_count": 58,
   "id": "9dd7dc38-6f2c-4528-9940-4061008a05a0",
   "metadata": {},
   "outputs": [
    {
     "name": "stdout",
     "output_type": "stream",
     "text": [
      "Unnamed: 0                          6\n",
      "Annual Returns on Investments in    6\n",
      "Unnamed: 2                          6\n",
      "Unnamed: 3                          6\n",
      "dtype: int64\n"
     ]
    }
   ],
   "source": [
    "print(data.isnull().sum())"
   ]
  }
 ],
 "metadata": {
  "kernelspec": {
   "display_name": "Python 3 (ipykernel)",
   "language": "python",
   "name": "python3"
  },
  "language_info": {
   "codemirror_mode": {
    "name": "ipython",
    "version": 3
   },
   "file_extension": ".py",
   "mimetype": "text/x-python",
   "name": "python",
   "nbconvert_exporter": "python",
   "pygments_lexer": "ipython3",
   "version": "3.12.4"
  }
 },
 "nbformat": 4,
 "nbformat_minor": 5
}
