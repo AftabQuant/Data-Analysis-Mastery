{
 "cells": [
  {
   "cell_type": "code",
   "execution_count": 4,
   "id": "4103b030-4620-49c2-b6af-42381834e57c",
   "metadata": {},
   "outputs": [
    {
     "name": "stdout",
     "output_type": "stream",
     "text": [
      "                order_no                       order_date       buyer  \\\n",
      "0    405-9763961-5211537  Sun, 18 Jul, 2021, 10:38 pm IST         Mr.   \n",
      "1    404-3964908-7850720   Tue, 19 Oct, 2021, 6:05 pm IST       Minam   \n",
      "2    171-8103182-4289117  Sun, 28 Nov, 2021, 10:20 pm IST  yatipertin   \n",
      "3    405-3171677-9557154   Wed, 28 Jul, 2021, 4:06 am IST       aciya   \n",
      "4    402-8910771-1215552  Tue, 28 Sept, 2021, 2:50 pm IST     Susmita   \n",
      "..                   ...                              ...         ...   \n",
      "166  171-2829978-1258758  Mon, 13 Dec, 2021, 11:30 am IST      Shahin   \n",
      "167  402-3045457-5360311   Wed, 1 Dec, 2021, 12:18 pm IST  Sharmistha   \n",
      "168  408-2260162-8323567    Thu, 9 Dec, 2021, 6:55 pm IST    shashank   \n",
      "169  403-5664951-8941100  Wed, 23 Feb, 2022, 12:43 am IST      Jayeta   \n",
      "170  402-4845680-8041921   Sun, 26 Dec, 2021, 6:21 pm IST       Varun   \n",
      "\n",
      "        ship_city         ship_state                 sku  \\\n",
      "0     CHANDIGARH,         CHANDIGARH  SKU:  2X-3C0F-KNJE   \n",
      "1       PASIGHAT,  ARUNACHAL PRADESH  SKU:  DN-0WDX-VYOT   \n",
      "2       PASIGHAT,  ARUNACHAL PRADESH  SKU:  DN-0WDX-VYOT   \n",
      "3    DEVARAKONDA,          TELANGANA  SKU:  AH-J3AO-R7DN   \n",
      "4         MUMBAI,        MAHARASHTRA  SKU:  KL-7WAA-Z82I   \n",
      "..            ...                ...                 ...   \n",
      "166       MUMBAI,        MAHARASHTRA  SKU:  DN-0WDX-VYOT   \n",
      "167     DEHRADUN,        UTTARAKHAND  SKU:  SB-WDQN-SDN9   \n",
      "168         Durg,       CHHATTISGARH  SKU:  SB-WDQN-SDN9   \n",
      "169      KOLKATA,        WEST BENGAL  SKU:  N8-YFZF-P74I   \n",
      "170       MUMBAI,        MAHARASHTRA  SKU:  2X-3C0F-KNJE   \n",
      "\n",
      "                                           description  quantity item_total  \\\n",
      "0    100% Leather Elephant Shaped Piggy Coin Bank |...         1    ₹449.00   \n",
      "1    Women's Set of 5 Multicolor Pure Leather Singl...         1    ₹449.00   \n",
      "2    Women's Set of 5 Multicolor Pure Leather Singl...         1    ₹449.00   \n",
      "3    Pure 100% Leather Block Print Rectangular Jewe...         1        NaN   \n",
      "4    Pure Leather Sling Bag with Multiple Pockets a...         1  ₹1,099.00   \n",
      "..                                                 ...       ...        ...   \n",
      "166  Women's Set of 5 Multicolor Pure Leather Singl...         3  ₹1,347.00   \n",
      "167  Traditional Block-Printed Women's 100% Pure Le...         1  ₹1,299.00   \n",
      "168  Traditional Block-Printed Women's 100% Pure Le...         1  ₹1,299.00   \n",
      "169  Stylish and Sleek Multiple Pockets 100 Percent...         1  ₹1,499.00   \n",
      "170  100% Leather Elephant Shaped Piggy Coin Bank |...         1    ₹449.00   \n",
      "\n",
      "    shipping_fee               cod        order_status  \n",
      "0            NaN               NaN  Delivered to buyer  \n",
      "1         ₹60.18               NaN  Delivered to buyer  \n",
      "2         ₹60.18               NaN  Delivered to buyer  \n",
      "3            NaN  Cash On Delivery  Delivered to buyer  \n",
      "4         ₹84.96               NaN  Delivered to buyer  \n",
      "..           ...               ...                 ...  \n",
      "166       ₹84.96  Cash On Delivery  Delivered to buyer  \n",
      "167      ₹114.46               NaN  Delivered to buyer  \n",
      "168      ₹105.02               NaN  Delivered to buyer  \n",
      "169       ₹80.24  Cash On Delivery  Delivered to buyer  \n",
      "170       ₹84.96               NaN  Delivered to buyer  \n",
      "\n",
      "[171 rows x 12 columns]\n"
     ]
    }
   ],
   "source": [
    "import pandas as pd\n",
    "df = pd.read_excel(\"Amazon.xlsx\")\n",
    "print(df)"
   ]
  },
  {
   "cell_type": "code",
   "execution_count": 22,
   "id": "6f85508a-6d9c-4811-befa-548554ac7922",
   "metadata": {},
   "outputs": [
    {
     "name": "stdout",
     "output_type": "stream",
     "text": [
      "                   cod\n",
      "ship_state            \n",
      "ANDHRA PRADESH       0\n",
      "ARUNACHAL PRADESH    0\n",
      "ASSAM                4\n",
      "Andhra Pradesh       0\n",
      "BIHAR                1\n",
      "CHANDIGARH           0\n",
      "CHANDIGARH,          1\n",
      "CHHATTISGARH         0\n",
      "DELHI                3\n",
      "GOA                  0\n",
      "GUJARAT              3\n",
      "HARYANA              0\n",
      "Himachal Pradesh     0\n",
      "JAMMU & KASHMIR      1\n",
      "KARNATAKA            2\n",
      "KERALA               2\n",
      "MADHYA Pradesh       0\n",
      "MAHARASHTRA          9\n",
      "MOHALI,              1\n",
      "Maharashtra          0\n",
      "ODISHA               1\n",
      "Odisha               0\n",
      "PUNJAB               0\n",
      "RAJASTHAN            1\n",
      "TAMIL NADU           6\n",
      "TELANGANA            6\n",
      "TRIPURA              0\n",
      "UTTAR PRADESH        3\n",
      "UTTARAKHAND          0\n",
      "WEST BENGAL          3\n"
     ]
    }
   ],
   "source": [
    "gp1 = df.groupby(\"ship_state\").agg({\"cod\" : \"count\"})\n",
    "print(gp1) "
   ]
  }
 ],
 "metadata": {
  "kernelspec": {
   "display_name": "Python 3 (ipykernel)",
   "language": "python",
   "name": "python3"
  },
  "language_info": {
   "codemirror_mode": {
    "name": "ipython",
    "version": 3
   },
   "file_extension": ".py",
   "mimetype": "text/x-python",
   "name": "python",
   "nbconvert_exporter": "python",
   "pygments_lexer": "ipython3",
   "version": "3.12.4"
  }
 },
 "nbformat": 4,
 "nbformat_minor": 5
}
