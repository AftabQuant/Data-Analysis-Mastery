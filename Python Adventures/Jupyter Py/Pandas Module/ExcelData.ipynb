{
 "cells": [
  {
   "cell_type": "code",
   "execution_count": 71,
   "id": "cf0c6362-4ecf-41ee-9e3f-4519b2ca0df7",
   "metadata": {},
   "outputs": [
    {
     "name": "stdout",
     "output_type": "stream",
     "text": [
      "                order_no                       order_date       buyer  \\\n",
      "0    405-9763961-5211537  Sun, 18 Jul, 2021, 10:38 pm IST         Mr.   \n",
      "1    404-3964908-7850720   Tue, 19 Oct, 2021, 6:05 pm IST       Minam   \n",
      "2    171-8103182-4289117  Sun, 28 Nov, 2021, 10:20 pm IST  yatipertin   \n",
      "3    405-3171677-9557154   Wed, 28 Jul, 2021, 4:06 am IST       aciya   \n",
      "4    402-8910771-1215552  Tue, 28 Sept, 2021, 2:50 pm IST     Susmita   \n",
      "..                   ...                              ...         ...   \n",
      "166  171-2829978-1258758  Mon, 13 Dec, 2021, 11:30 am IST      Shahin   \n",
      "167  402-3045457-5360311   Wed, 1 Dec, 2021, 12:18 pm IST  Sharmistha   \n",
      "168  408-2260162-8323567    Thu, 9 Dec, 2021, 6:55 pm IST    shashank   \n",
      "169  403-5664951-8941100  Wed, 23 Feb, 2022, 12:43 am IST      Jayeta   \n",
      "170  402-4845680-8041921   Sun, 26 Dec, 2021, 6:21 pm IST       Varun   \n",
      "\n",
      "        ship_city         ship_state                 sku  \\\n",
      "0     CHANDIGARH,         CHANDIGARH  SKU:  2X-3C0F-KNJE   \n",
      "1       PASIGHAT,  ARUNACHAL PRADESH  SKU:  DN-0WDX-VYOT   \n",
      "2       PASIGHAT,  ARUNACHAL PRADESH  SKU:  DN-0WDX-VYOT   \n",
      "3    DEVARAKONDA,          TELANGANA  SKU:  AH-J3AO-R7DN   \n",
      "4         MUMBAI,        MAHARASHTRA  SKU:  KL-7WAA-Z82I   \n",
      "..            ...                ...                 ...   \n",
      "166       MUMBAI,        MAHARASHTRA  SKU:  DN-0WDX-VYOT   \n",
      "167     DEHRADUN,        UTTARAKHAND  SKU:  SB-WDQN-SDN9   \n",
      "168         Durg,       CHHATTISGARH  SKU:  SB-WDQN-SDN9   \n",
      "169      KOLKATA,        WEST BENGAL  SKU:  N8-YFZF-P74I   \n",
      "170       MUMBAI,        MAHARASHTRA  SKU:  2X-3C0F-KNJE   \n",
      "\n",
      "                                           description  quantity item_total  \\\n",
      "0    100% Leather Elephant Shaped Piggy Coin Bank |...         1    ₹449.00   \n",
      "1    Women's Set of 5 Multicolor Pure Leather Singl...         1    ₹449.00   \n",
      "2    Women's Set of 5 Multicolor Pure Leather Singl...         1    ₹449.00   \n",
      "3    Pure 100% Leather Block Print Rectangular Jewe...         1        NaN   \n",
      "4    Pure Leather Sling Bag with Multiple Pockets a...         1  ₹1,099.00   \n",
      "..                                                 ...       ...        ...   \n",
      "166  Women's Set of 5 Multicolor Pure Leather Singl...         3  ₹1,347.00   \n",
      "167  Traditional Block-Printed Women's 100% Pure Le...         1  ₹1,299.00   \n",
      "168  Traditional Block-Printed Women's 100% Pure Le...         1  ₹1,299.00   \n",
      "169  Stylish and Sleek Multiple Pockets 100 Percent...         1  ₹1,499.00   \n",
      "170  100% Leather Elephant Shaped Piggy Coin Bank |...         1    ₹449.00   \n",
      "\n",
      "    shipping_fee               cod        order_status  \n",
      "0            NaN               NaN  Delivered to buyer  \n",
      "1         ₹60.18               NaN  Delivered to buyer  \n",
      "2         ₹60.18               NaN  Delivered to buyer  \n",
      "3            NaN  Cash On Delivery  Delivered to buyer  \n",
      "4         ₹84.96               NaN  Delivered to buyer  \n",
      "..           ...               ...                 ...  \n",
      "166       ₹84.96  Cash On Delivery  Delivered to buyer  \n",
      "167      ₹114.46               NaN  Delivered to buyer  \n",
      "168      ₹105.02               NaN  Delivered to buyer  \n",
      "169       ₹80.24  Cash On Delivery  Delivered to buyer  \n",
      "170       ₹84.96               NaN  Delivered to buyer  \n",
      "\n",
      "[171 rows x 12 columns]\n"
     ]
    }
   ],
   "source": [
    "import pandas as pd\n",
    "data = pd.read_excel(\"Amazon.xlsx\")\n",
    "print(data)"
   ]
  },
  {
   "cell_type": "code",
   "execution_count": 44,
   "id": "27345b7c-41f6-4d3d-9dc6-63e3d65f3840",
   "metadata": {},
   "outputs": [
    {
     "name": "stdout",
     "output_type": "stream",
     "text": [
      "<class 'pandas.core.frame.DataFrame'>\n",
      "RangeIndex: 171 entries, 0 to 170\n",
      "Data columns (total 12 columns):\n",
      " #   Column        Non-Null Count  Dtype \n",
      "---  ------        --------------  ----- \n",
      " 0   order_no      171 non-null    object\n",
      " 1   order_date    171 non-null    object\n",
      " 2   buyer         171 non-null    object\n",
      " 3   ship_city     171 non-null    object\n",
      " 4   ship_state    171 non-null    object\n",
      " 5   sku           171 non-null    object\n",
      " 6   description   171 non-null    object\n",
      " 7   quantity      171 non-null    int64 \n",
      " 8   item_total    153 non-null    object\n",
      " 9   shipping_fee  145 non-null    object\n",
      " 10  cod           47 non-null     object\n",
      " 11  order_status  171 non-null    object\n",
      "dtypes: int64(1), object(11)\n",
      "memory usage: 16.2+ KB\n",
      "None\n"
     ]
    }
   ],
   "source": [
    "print(data.info())"
   ]
  },
  {
   "cell_type": "code",
   "execution_count": 46,
   "id": "a7d1ba23-83b3-4115-a3b6-18a66729626d",
   "metadata": {},
   "outputs": [
    {
     "name": "stdout",
     "output_type": "stream",
     "text": [
      "         quantity\n",
      "count  171.000000\n",
      "mean     1.087719\n",
      "std      0.445132\n",
      "min      1.000000\n",
      "25%      1.000000\n",
      "50%      1.000000\n",
      "75%      1.000000\n",
      "max      4.000000\n"
     ]
    }
   ],
   "source": [
    "print(data.describe())"
   ]
  },
  {
   "cell_type": "code",
   "execution_count": 22,
   "id": "a5149ec8-76dc-46b2-9efc-8bc080c7e2c5",
   "metadata": {},
   "outputs": [
    {
     "name": "stdout",
     "output_type": "stream",
     "text": [
      "order_no          0\n",
      "order_date        0\n",
      "buyer             0\n",
      "ship_city         0\n",
      "ship_state        0\n",
      "sku               0\n",
      "description       0\n",
      "quantity          0\n",
      "item_total       18\n",
      "shipping_fee     26\n",
      "cod             124\n",
      "order_status      0\n",
      "dtype: int64\n"
     ]
    }
   ],
   "source": [
    "print(data.isnull().sum())"
   ]
  },
  {
   "cell_type": "code",
   "execution_count": 65,
   "id": "df79fc73-bdd9-49b3-87f5-5fa6a6219c9c",
   "metadata": {},
   "outputs": [
    {
     "name": "stdout",
     "output_type": "stream",
     "text": [
      "                order_no                       order_date       buyer  \\\n",
      "0    405-9763961-5211537  Sun, 18 Jul, 2021, 10:38 pm IST         Mr.   \n",
      "1    404-3964908-7850720   Tue, 19 Oct, 2021, 6:05 pm IST       Minam   \n",
      "2    171-8103182-4289117  Sun, 28 Nov, 2021, 10:20 pm IST  yatipertin   \n",
      "3    405-3171677-9557154   Wed, 28 Jul, 2021, 4:06 am IST       aciya   \n",
      "4    402-8910771-1215552  Tue, 28 Sept, 2021, 2:50 pm IST     Susmita   \n",
      "..                   ...                              ...         ...   \n",
      "166  171-2829978-1258758  Mon, 13 Dec, 2021, 11:30 am IST      Shahin   \n",
      "167  402-3045457-5360311   Wed, 1 Dec, 2021, 12:18 pm IST  Sharmistha   \n",
      "168  408-2260162-8323567    Thu, 9 Dec, 2021, 6:55 pm IST    shashank   \n",
      "169  403-5664951-8941100  Wed, 23 Feb, 2022, 12:43 am IST      Jayeta   \n",
      "170  402-4845680-8041921   Sun, 26 Dec, 2021, 6:21 pm IST       Varun   \n",
      "\n",
      "        ship_city         ship_state                 sku  \\\n",
      "0     CHANDIGARH,         CHANDIGARH  SKU:  2X-3C0F-KNJE   \n",
      "1       PASIGHAT,  ARUNACHAL PRADESH  SKU:  DN-0WDX-VYOT   \n",
      "2       PASIGHAT,  ARUNACHAL PRADESH  SKU:  DN-0WDX-VYOT   \n",
      "3    DEVARAKONDA,          TELANGANA  SKU:  AH-J3AO-R7DN   \n",
      "4         MUMBAI,        MAHARASHTRA  SKU:  KL-7WAA-Z82I   \n",
      "..            ...                ...                 ...   \n",
      "166       MUMBAI,        MAHARASHTRA  SKU:  DN-0WDX-VYOT   \n",
      "167     DEHRADUN,        UTTARAKHAND  SKU:  SB-WDQN-SDN9   \n",
      "168         Durg,       CHHATTISGARH  SKU:  SB-WDQN-SDN9   \n",
      "169      KOLKATA,        WEST BENGAL  SKU:  N8-YFZF-P74I   \n",
      "170       MUMBAI,        MAHARASHTRA  SKU:  2X-3C0F-KNJE   \n",
      "\n",
      "                                           description  quantity item_total  \\\n",
      "0    100% Leather Elephant Shaped Piggy Coin Bank |...         1    ₹449.00   \n",
      "1    Women's Set of 5 Multicolor Pure Leather Singl...         1    ₹449.00   \n",
      "2    Women's Set of 5 Multicolor Pure Leather Singl...         1    ₹449.00   \n",
      "3    Pure 100% Leather Block Print Rectangular Jewe...         1        NaN   \n",
      "4    Pure Leather Sling Bag with Multiple Pockets a...         1  ₹1,099.00   \n",
      "..                                                 ...       ...        ...   \n",
      "166  Women's Set of 5 Multicolor Pure Leather Singl...         3  ₹1,347.00   \n",
      "167  Traditional Block-Printed Women's 100% Pure Le...         1  ₹1,299.00   \n",
      "168  Traditional Block-Printed Women's 100% Pure Le...         1  ₹1,299.00   \n",
      "169  Stylish and Sleek Multiple Pockets 100 Percent...         1  ₹1,499.00   \n",
      "170  100% Leather Elephant Shaped Piggy Coin Bank |...         1    ₹449.00   \n",
      "\n",
      "    shipping_fee               cod        order_status  \n",
      "0             50               NaN  Delivered to buyer  \n",
      "1         ₹60.18               NaN  Delivered to buyer  \n",
      "2         ₹60.18               NaN  Delivered to buyer  \n",
      "3             50  Cash On Delivery  Delivered to buyer  \n",
      "4         ₹84.96               NaN  Delivered to buyer  \n",
      "..           ...               ...                 ...  \n",
      "166       ₹84.96  Cash On Delivery  Delivered to buyer  \n",
      "167      ₹114.46               NaN  Delivered to buyer  \n",
      "168      ₹105.02               NaN  Delivered to buyer  \n",
      "169       ₹80.24  Cash On Delivery  Delivered to buyer  \n",
      "170       ₹84.96               NaN  Delivered to buyer  \n",
      "\n",
      "[171 rows x 12 columns]\n"
     ]
    }
   ],
   "source": [
    "import numpy as np\n",
    "data[\"shipping_fee\"] = data[\"shipping_fee\"].replace(np.nan, 50)\n",
    "print(data)"
   ]
  },
  {
   "cell_type": "code",
   "execution_count": 67,
   "id": "5c729bb6-bbb2-4e10-996b-e2fd8eb1cbf8",
   "metadata": {},
   "outputs": [
    {
     "name": "stdout",
     "output_type": "stream",
     "text": [
      "                order_no                       order_date       buyer  \\\n",
      "0    405-9763961-5211537  Sun, 18 Jul, 2021, 10:38 pm IST         Mr.   \n",
      "1    404-3964908-7850720   Tue, 19 Oct, 2021, 6:05 pm IST       Minam   \n",
      "2    171-8103182-4289117  Sun, 28 Nov, 2021, 10:20 pm IST  yatipertin   \n",
      "3    405-3171677-9557154   Wed, 28 Jul, 2021, 4:06 am IST       aciya   \n",
      "4    402-8910771-1215552  Tue, 28 Sept, 2021, 2:50 pm IST     Susmita   \n",
      "..                   ...                              ...         ...   \n",
      "166  171-2829978-1258758  Mon, 13 Dec, 2021, 11:30 am IST      Shahin   \n",
      "167  402-3045457-5360311   Wed, 1 Dec, 2021, 12:18 pm IST  Sharmistha   \n",
      "168  408-2260162-8323567    Thu, 9 Dec, 2021, 6:55 pm IST    shashank   \n",
      "169  403-5664951-8941100  Wed, 23 Feb, 2022, 12:43 am IST      Jayeta   \n",
      "170  402-4845680-8041921   Sun, 26 Dec, 2021, 6:21 pm IST       Varun   \n",
      "\n",
      "        ship_city         ship_state                 sku  \\\n",
      "0     CHANDIGARH,         CHANDIGARH  SKU:  2X-3C0F-KNJE   \n",
      "1       PASIGHAT,  ARUNACHAL PRADESH  SKU:  DN-0WDX-VYOT   \n",
      "2       PASIGHAT,  ARUNACHAL PRADESH  SKU:  DN-0WDX-VYOT   \n",
      "3    DEVARAKONDA,          TELANGANA  SKU:  AH-J3AO-R7DN   \n",
      "4         MUMBAI,        MAHARASHTRA  SKU:  KL-7WAA-Z82I   \n",
      "..            ...                ...                 ...   \n",
      "166       MUMBAI,        MAHARASHTRA  SKU:  DN-0WDX-VYOT   \n",
      "167     DEHRADUN,        UTTARAKHAND  SKU:  SB-WDQN-SDN9   \n",
      "168         Durg,       CHHATTISGARH  SKU:  SB-WDQN-SDN9   \n",
      "169      KOLKATA,        WEST BENGAL  SKU:  N8-YFZF-P74I   \n",
      "170       MUMBAI,        MAHARASHTRA  SKU:  2X-3C0F-KNJE   \n",
      "\n",
      "                                           description  quantity item_total  \\\n",
      "0    100% Leather Elephant Shaped Piggy Coin Bank |...         1    ₹449.00   \n",
      "1    Women's Set of 5 Multicolor Pure Leather Singl...         1    ₹449.00   \n",
      "2    Women's Set of 5 Multicolor Pure Leather Singl...         1    ₹449.00   \n",
      "3    Pure 100% Leather Block Print Rectangular Jewe...         1  ₹1,099.00   \n",
      "4    Pure Leather Sling Bag with Multiple Pockets a...         1  ₹1,099.00   \n",
      "..                                                 ...       ...        ...   \n",
      "166  Women's Set of 5 Multicolor Pure Leather Singl...         3  ₹1,347.00   \n",
      "167  Traditional Block-Printed Women's 100% Pure Le...         1  ₹1,299.00   \n",
      "168  Traditional Block-Printed Women's 100% Pure Le...         1  ₹1,299.00   \n",
      "169  Stylish and Sleek Multiple Pockets 100 Percent...         1  ₹1,499.00   \n",
      "170  100% Leather Elephant Shaped Piggy Coin Bank |...         1    ₹449.00   \n",
      "\n",
      "    shipping_fee               cod        order_status  \n",
      "0             50  Cash On Delivery  Delivered to buyer  \n",
      "1         ₹60.18  Cash On Delivery  Delivered to buyer  \n",
      "2         ₹60.18  Cash On Delivery  Delivered to buyer  \n",
      "3             50  Cash On Delivery  Delivered to buyer  \n",
      "4         ₹84.96  Cash On Delivery  Delivered to buyer  \n",
      "..           ...               ...                 ...  \n",
      "166       ₹84.96  Cash On Delivery  Delivered to buyer  \n",
      "167      ₹114.46  Cash On Delivery  Delivered to buyer  \n",
      "168      ₹105.02  Cash On Delivery  Delivered to buyer  \n",
      "169       ₹80.24  Cash On Delivery  Delivered to buyer  \n",
      "170       ₹84.96               NaN  Delivered to buyer  \n",
      "\n",
      "[171 rows x 12 columns]\n"
     ]
    },
    {
     "name": "stderr",
     "output_type": "stream",
     "text": [
      "C:\\Users\\iamaf\\AppData\\Local\\Temp\\ipykernel_4432\\2754045057.py:1: FutureWarning: DataFrame.fillna with 'method' is deprecated and will raise in a future version. Use obj.ffill() or obj.bfill() instead.\n",
      "  print(data.fillna(method = \"bfill\"))\n"
     ]
    }
   ],
   "source": [
    "print(data.fillna(method = \"bfill\")) # backword fill "
   ]
  },
  {
   "cell_type": "code",
   "execution_count": 69,
   "id": "f226ec89-b68c-41b2-8239-e78d8feb9e25",
   "metadata": {},
   "outputs": [
    {
     "name": "stdout",
     "output_type": "stream",
     "text": [
      "                order_no                       order_date       buyer  \\\n",
      "0    405-9763961-5211537  Sun, 18 Jul, 2021, 10:38 pm IST         Mr.   \n",
      "1    404-3964908-7850720   Tue, 19 Oct, 2021, 6:05 pm IST       Minam   \n",
      "2    171-8103182-4289117  Sun, 28 Nov, 2021, 10:20 pm IST  yatipertin   \n",
      "3    405-3171677-9557154   Wed, 28 Jul, 2021, 4:06 am IST       aciya   \n",
      "4    402-8910771-1215552  Tue, 28 Sept, 2021, 2:50 pm IST     Susmita   \n",
      "..                   ...                              ...         ...   \n",
      "166  171-2829978-1258758  Mon, 13 Dec, 2021, 11:30 am IST      Shahin   \n",
      "167  402-3045457-5360311   Wed, 1 Dec, 2021, 12:18 pm IST  Sharmistha   \n",
      "168  408-2260162-8323567    Thu, 9 Dec, 2021, 6:55 pm IST    shashank   \n",
      "169  403-5664951-8941100  Wed, 23 Feb, 2022, 12:43 am IST      Jayeta   \n",
      "170  402-4845680-8041921   Sun, 26 Dec, 2021, 6:21 pm IST       Varun   \n",
      "\n",
      "        ship_city         ship_state                 sku  \\\n",
      "0     CHANDIGARH,         CHANDIGARH  SKU:  2X-3C0F-KNJE   \n",
      "1       PASIGHAT,  ARUNACHAL PRADESH  SKU:  DN-0WDX-VYOT   \n",
      "2       PASIGHAT,  ARUNACHAL PRADESH  SKU:  DN-0WDX-VYOT   \n",
      "3    DEVARAKONDA,          TELANGANA  SKU:  AH-J3AO-R7DN   \n",
      "4         MUMBAI,        MAHARASHTRA  SKU:  KL-7WAA-Z82I   \n",
      "..            ...                ...                 ...   \n",
      "166       MUMBAI,        MAHARASHTRA  SKU:  DN-0WDX-VYOT   \n",
      "167     DEHRADUN,        UTTARAKHAND  SKU:  SB-WDQN-SDN9   \n",
      "168         Durg,       CHHATTISGARH  SKU:  SB-WDQN-SDN9   \n",
      "169      KOLKATA,        WEST BENGAL  SKU:  N8-YFZF-P74I   \n",
      "170       MUMBAI,        MAHARASHTRA  SKU:  2X-3C0F-KNJE   \n",
      "\n",
      "                                           description  quantity item_total  \\\n",
      "0    100% Leather Elephant Shaped Piggy Coin Bank |...         1    ₹449.00   \n",
      "1    Women's Set of 5 Multicolor Pure Leather Singl...         1    ₹449.00   \n",
      "2    Women's Set of 5 Multicolor Pure Leather Singl...         1    ₹449.00   \n",
      "3    Pure 100% Leather Block Print Rectangular Jewe...         1    ₹449.00   \n",
      "4    Pure Leather Sling Bag with Multiple Pockets a...         1  ₹1,099.00   \n",
      "..                                                 ...       ...        ...   \n",
      "166  Women's Set of 5 Multicolor Pure Leather Singl...         3  ₹1,347.00   \n",
      "167  Traditional Block-Printed Women's 100% Pure Le...         1  ₹1,299.00   \n",
      "168  Traditional Block-Printed Women's 100% Pure Le...         1  ₹1,299.00   \n",
      "169  Stylish and Sleek Multiple Pockets 100 Percent...         1  ₹1,499.00   \n",
      "170  100% Leather Elephant Shaped Piggy Coin Bank |...         1    ₹449.00   \n",
      "\n",
      "    shipping_fee               cod        order_status  \n",
      "0             50               NaN  Delivered to buyer  \n",
      "1         ₹60.18               NaN  Delivered to buyer  \n",
      "2         ₹60.18               NaN  Delivered to buyer  \n",
      "3             50  Cash On Delivery  Delivered to buyer  \n",
      "4         ₹84.96  Cash On Delivery  Delivered to buyer  \n",
      "..           ...               ...                 ...  \n",
      "166       ₹84.96  Cash On Delivery  Delivered to buyer  \n",
      "167      ₹114.46  Cash On Delivery  Delivered to buyer  \n",
      "168      ₹105.02  Cash On Delivery  Delivered to buyer  \n",
      "169       ₹80.24  Cash On Delivery  Delivered to buyer  \n",
      "170       ₹84.96  Cash On Delivery  Delivered to buyer  \n",
      "\n",
      "[171 rows x 12 columns]\n"
     ]
    },
    {
     "name": "stderr",
     "output_type": "stream",
     "text": [
      "C:\\Users\\iamaf\\AppData\\Local\\Temp\\ipykernel_4432\\1391920301.py:1: FutureWarning: DataFrame.fillna with 'method' is deprecated and will raise in a future version. Use obj.ffill() or obj.bfill() instead.\n",
      "  print(data.fillna(method = \"ffill\"))\n"
     ]
    }
   ],
   "source": [
    "print(data.fillna(method = \"ffill\")) # forword fill"
   ]
  },
  {
   "cell_type": "code",
   "execution_count": null,
   "id": "d12a97dc-bae1-4c61-86b9-32c7678bb9cb",
   "metadata": {},
   "outputs": [],
   "source": []
  }
 ],
 "metadata": {
  "kernelspec": {
   "display_name": "Python 3 (ipykernel)",
   "language": "python",
   "name": "python3"
  },
  "language_info": {
   "codemirror_mode": {
    "name": "ipython",
    "version": 3
   },
   "file_extension": ".py",
   "mimetype": "text/x-python",
   "name": "python",
   "nbconvert_exporter": "python",
   "pygments_lexer": "ipython3",
   "version": "3.12.4"
  }
 },
 "nbformat": 4,
 "nbformat_minor": 5
}
